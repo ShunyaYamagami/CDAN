{
 "cells": [
  {
   "cell_type": "code",
   "execution_count": 2,
   "metadata": {},
   "outputs": [],
   "source": [
    "dsetlist = []\n",
    "dsetlist += [\"amazon_dslr\", \"webcam_amazon\", \"dslr_webcam\"]\n",
    "dsetlist += [\"Art_Clipart\", \"Art_Product\", \"Art_RealWorld\", \"Clipart_Product\", \"Clipart_RealWorld\", \"Product_RealWorld\"]\n",
    "dsetlist += ['clipart_infograph', 'clipart_painting', 'clipart_quickdraw', 'clipart_real', 'clipart_sketch', 'infograph_painting', 'infograph_quickdraw', 'infograph_real', 'infograph_sketch', 'painting_quickdraw', 'painting_real', 'painting_sketch', 'quickdraw_real', 'quickdraw_sketch', 'real_sketch']\n",
    "\n",
    "import os\n",
    "from glob import glob\n",
    "from collections import defaultdict\n",
    "methods = ['CDAN', 'CDAN+E']\n",
    "commands = []\n",
    "for method in methods:\n",
    "    resumes = defaultdict(list)\n",
    "    folders = glob(f'snapshot/{method}/*/*')\n",
    "    for f in folders:\n",
    "        resume = \"/\".join(f.split(\"/\")[-3:])\n",
    "        if 'original_uda' in resume or 'simclr_rpl' in resume or 'simple' in resume:\n",
    "            continue\n",
    "        dset = f.split(\"/\")[-1].split('--')[2]\n",
    "        if dset not in dsetlist:\n",
    "            continue\n",
    "        time = f.split(\"/\")[-1].split('--')[0]\n",
    "        parent = f.split(\"/\")[-2]\n",
    "        task = f.split(\"/\")[-1].split('--')[-1]\n",
    "        resumes[parent].append((time, parent, task, resume))\n",
    "\n",
    "    parent = 'Office31'\n",
    "    resumes[parent] = sorted(resumes[parent], key=lambda x: x[0])\n",
    "    commands += [f'. cmd.sh 0 0 0  --parent {parent}  --task {task}  --resume  {resume} --tmux {method}\\n' for time, parent, task, resume in resumes[parent]]\n",
    "    parent = 'OfficeHome'\n",
    "    resumes[parent] = sorted(resumes[parent], key=lambda x: x[0])\n",
    "    commands += [f'. cmd.sh 0 0 0  --parent {parent}  --task {task}  --resume  {resume} --tmux {method}\\n' for time, parent, task, resume in resumes[parent]]\n",
    "\n",
    "with open('resume_commands.txt', 'w') as f:\n",
    "    f.writelines(commands)"
   ]
  }
 ],
 "metadata": {
  "kernelspec": {
   "display_name": "gda",
   "language": "python",
   "name": "python3"
  },
  "language_info": {
   "codemirror_mode": {
    "name": "ipython",
    "version": 3
   },
   "file_extension": ".py",
   "mimetype": "text/x-python",
   "name": "python",
   "nbconvert_exporter": "python",
   "pygments_lexer": "ipython3",
   "version": "3.11.3"
  },
  "orig_nbformat": 4
 },
 "nbformat": 4,
 "nbformat_minor": 2
}
